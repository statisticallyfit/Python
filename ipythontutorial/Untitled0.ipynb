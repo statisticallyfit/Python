{
 "metadata": {
  "name": "",
  "signature": "sha256:29ba05633210a8201773701ba4e6df0a9c415eec2390254eca43a0ed1c1ab83e"
 },
 "nbformat": 3,
 "nbformat_minor": 0,
 "worksheets": []
}