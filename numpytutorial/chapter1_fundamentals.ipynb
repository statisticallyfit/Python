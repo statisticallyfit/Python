{
 "worksheets": [
  {
   "cells": [
    {
     "cell_type": "code",
     "execution_count": null,
     "metadata": {},
     "outputs": [
      {
       "metadata": {},
       "output_type": "pyout",
       "text": [
        "array([0, 1, 2, 3, 4])"
       ]
      }
     ],
     "input": [
      "import numpy as np\n",
      "# an array has data type (dtype) and shape (shape)\n",
      "a = np.arange(5)\n",
      "a"
     ],
     "language": "python",
     "prompt_number": 1
    },
    {
     "cell_type": "code",
     "execution_count": null,
     "metadata": {},
     "outputs": [
      {
       "metadata": {},
       "output_type": "pyout",
       "text": [
        "dtype('int32')"
       ]
      }
     ],
     "input": [
      "a.dtype"
     ],
     "language": "python",
     "prompt_number": 3
    },
    {
     "cell_type": "code",
     "execution_count": null,
     "metadata": {},
     "outputs": [
      {
       "metadata": {},
       "output_type": "pyout",
       "text": [
        "(5,)"
       ]
      }
     ],
     "input": [
      "a.shape"
     ],
     "language": "python",
     "prompt_number": 4
    },
    {
     "cell_type": "code",
     "execution_count": null,
     "metadata": {},
     "outputs": [
      {
       "metadata": {},
       "output_type": "pyout",
       "text": [
        "array([[0, 1],\n       [0, 1]])"
       ]
      }
     ],
     "input": [
      "# MULTIDIMENSIONAL ARRAY\n",
      "multiDim = np.array([np.arange(2), np.arange(2)])\n",
      "multiDim"
     ],
     "language": "python",
     "prompt_number": 5
    },
    {
     "cell_type": "code",
     "execution_count": null,
     "metadata": {},
     "outputs": [
      {
       "metadata": {},
       "output_type": "pyout",
       "text": [
        "(2, 2)"
       ]
      }
     ],
     "input": [
      "multiDim.shape  # it is 2 by 2"
     ],
     "language": "python",
     "prompt_number": 6
    },
    {
     "cell_type": "code",
     "execution_count": null,
     "metadata": {},
     "outputs": [
      {
       "metadata": {},
       "output_type": "pyout",
       "text": [
        "2"
       ]
      }
     ],
     "input": [
      "multiDim.ndim #//it is two dimensional"
     ],
     "language": "python",
     "prompt_number": 7
    },
    {
     "cell_type": "code",
     "execution_count": null,
     "metadata": {},
     "outputs": [
      {
       "metadata": {},
       "output_type": "pyout",
       "text": [
        "matrix([[1, 2, 3, 4],\n        [4, 3, 2, 1]])"
       ]
      }
     ],
     "input": [
      "matrix = np.matrix('1 2 3 4; 4 3 2 1')\n",
      "matrix"
     ],
     "language": "python",
     "prompt_number": 9
    },
    {
     "cell_type": "code",
     "execution_count": null,
     "metadata": {},
     "outputs": [
      {
       "metadata": {},
       "output_type": "pyout",
       "text": [
        "array([[0, 1, 2],\n       [0, 1, 2],\n       [0, 1, 2]])"
       ]
      }
     ],
     "input": [
      "matrix = np.array([np.arange(0, 3), np.arange(0, 3), np.arange(0, 3)])\n",
      "matrix"
     ],
     "language": "python",
     "prompt_number": 13
    },
    {
     "cell_type": "code",
     "execution_count": null,
     "metadata": {},
     "outputs": [
      {
       "metadata": {},
       "output_type": "pyout",
       "text": [
        "array([[1, 2, 3],\n       [4, 5, 6],\n       [7, 8, 9]])"
       ]
      }
     ],
     "input": [
      "a = np.array(((1, 2, 3), (4, 5, 6), (7, 8, 9)))\n",
      "a"
     ],
     "language": "python",
     "prompt_number": 17
    },
    {
     "cell_type": "code",
     "execution_count": null,
     "metadata": {},
     "outputs": [
      {
       "metadata": {},
       "output_type": "pyout",
       "text": [
        "array([[1, 2],\n       [3, 4]])"
       ]
      }
     ],
     "input": [
      "b = np.array(((1, 2), (3, 4)))\n",
      "b"
     ],
     "language": "python",
     "prompt_number": 18
    },
    {
     "cell_type": "code",
     "execution_count": null,
     "metadata": {},
     "outputs": [
      {
       "metadata": {},
       "output_type": "pyout",
       "text": [
        "array([[1, 2],\n       [3, 4]])"
       ]
      }
     ],
     "input": [
      "b = np.array([[1, 2], [3, 4]])\n",
      "b"
     ],
     "language": "python"
    },
    {
     "cell_type": "code",
     "execution_count": null,
     "metadata": {},
     "outputs": [
      {
       "metadata": {},
       "output_type": "pyout",
       "text": [
        "array([[1, 2, 3, 4],\n       [1, 2, 3, 4],\n       [1, 2, 3, 4],\n       [1, 2, 3, 4]])"
       ]
      }
     ],
     "input": [
      "b = np.array(((1, 2, 3, 4), (1, 2, 3, 4), (1, 2, 3, 4), (1, 2, 3, 4)))\n",
      "b"
     ],
     "language": "python",
     "prompt_number": 21
    },
    {
     "cell_type": "code",
     "execution_count": null,
     "metadata": {},
     "outputs": [
      {
       "metadata": {},
       "output_type": "pyout",
       "text": [
        "array([[1, 2],\n       [3, 4]])"
       ]
      }
     ],
     "input": [
      "a = np.array(((1, 2), (3, 4)))\n",
      "a"
     ],
     "language": "python",
     "prompt_number": 57
    },
    {
     "cell_type": "code",
     "execution_count": null,
     "metadata": {},
     "outputs": [
      {
       "metadata": {},
       "output_type": "pyout",
       "text": [
        "array([[1, 2, 3],\n       [5, 4, 3]])"
       ]
      }
     ],
     "input": [
      "from numpy import *\n",
      "b = array([[1, 2, 3], [5, 4, 3]])\n",
      "b"
     ],
     "language": "python",
     "prompt_number": 3
    },
    {
     "cell_type": "code",
     "execution_count": null,
     "metadata": {},
     "outputs": [
      {
       "metadata": {},
       "output_type": "pyout",
       "text": [
        "1"
       ]
      }
     ],
     "input": [
      "# accessing an element\n",
      "a[0][0]"
     ],
     "language": "python",
     "prompt_number": 25
    },
    {
     "cell_type": "code",
     "execution_count": null,
     "metadata": {},
     "outputs": [
      {
       "metadata": {},
       "output_type": "pyout",
       "text": [
        "2"
       ]
      }
     ],
     "input": [
      "a[0][1]"
     ],
     "language": "python",
     "prompt_number": 26
    },
    {
     "cell_type": "code",
     "execution_count": null,
     "metadata": {},
     "outputs": [
      {
       "metadata": {},
       "output_type": "pyout",
       "text": [
        "3"
       ]
      }
     ],
     "input": [
      "a[1, 0]"
     ],
     "language": "python",
     "prompt_number": 28
    },
    {
     "cell_type": "code",
     "execution_count": null,
     "metadata": {},
     "outputs": [
      {
       "metadata": {},
       "output_type": "pyout",
       "text": [
        "4"
       ]
      }
     ],
     "input": [
      "a[1, 1]"
     ],
     "language": "python",
     "prompt_number": 29
    },
    {
     "cell_type": "code",
     "execution_count": null,
     "metadata": {},
     "outputs": [
      {
       "metadata": {},
       "output_type": "pyout",
       "text": [
        "array([1, 2])"
       ]
      }
     ],
     "input": [
      "a[0]"
     ],
     "language": "python",
     "prompt_number": 30
    },
    {
     "cell_type": "code",
     "execution_count": null,
     "metadata": {},
     "outputs": [],
     "input": [
      "# DATA TYPES"
     ],
     "language": "python",
     "prompt_number": 31
    },
    {
     "cell_type": "code",
     "execution_count": null,
     "metadata": {},
     "outputs": [
      {
       "metadata": {},
       "output_type": "pyout",
       "text": [
        "42.0"
       ]
      }
     ],
     "input": [
      "np.float64(42)"
     ],
     "language": "python",
     "prompt_number": 33
    },
    {
     "cell_type": "code",
     "execution_count": null,
     "metadata": {},
     "outputs": [
      {
       "metadata": {},
       "output_type": "pyout",
       "text": [
        "42"
       ]
      }
     ],
     "input": [
      "np.int8(42.0)"
     ],
     "language": "python",
     "prompt_number": 36
    },
    {
     "cell_type": "code",
     "execution_count": null,
     "metadata": {},
     "outputs": [
      {
       "metadata": {},
       "output_type": "pyout",
       "text": [
        "42"
       ]
      }
     ],
     "input": [
      "np.int32(42.0)"
     ],
     "language": "python",
     "prompt_number": 38
    },
    {
     "cell_type": "code",
     "execution_count": null,
     "metadata": {},
     "outputs": [
      {
       "metadata": {},
       "output_type": "pyout",
       "text": [
        "(True, True, False, False)"
       ]
      }
     ],
     "input": [
      "bool(42), bool(1), bool(0), bool(0.00)"
     ],
     "language": "python",
     "prompt_number": 5
    },
    {
     "cell_type": "code",
     "execution_count": null,
     "metadata": {},
     "outputs": [
      {
       "metadata": {},
       "output_type": "pyout",
       "text": [
        "1.0"
       ]
      }
     ],
     "input": [
      "float(True)"
     ],
     "language": "python",
     "prompt_number": 40
    },
    {
     "cell_type": "code",
     "execution_count": null,
     "metadata": {},
     "outputs": [
      {
       "metadata": {},
       "output_type": "pyout",
       "text": [
        "array([0, 1, 2, 3, 4, 5, 6], dtype=uint16)"
       ]
      }
     ],
     "input": [
      "arange(7, dtype=uint16) # all positive natural numbers in [0, 7)"
     ],
     "language": "python",
     "prompt_number": 8
    },
    {
     "cell_type": "code",
     "execution_count": null,
     "metadata": {},
     "outputs": [],
     "input": [
      "# not allowed to convert complex number to integer"
     ],
     "language": "python",
     "prompt_number": 47
    },
    {
     "cell_type": "code",
     "execution_count": null,
     "metadata": {},
     "outputs": [
      {
       "ename": "TypeError",
       "evalue": "can't convert complex to int",
       "traceback": [
        "\u001b[1;31m---------------------------------------------------------------------------\u001b[0m\n\u001b[1;31mTypeError\u001b[0m                                 Traceback (most recent call last)",
        "\u001b[1;32m<ipython-input-48-bf7151b06622>\u001b[0m in \u001b[0;36m<module>\u001b[1;34m()\u001b[0m\n\u001b[0;32m      1\u001b[0m \u001b[1;33m\u001b[0m\u001b[0m\n\u001b[1;32m----> 2\u001b[1;33m \u001b[0mnp\u001b[0m\u001b[1;33m.\u001b[0m\u001b[0mint\u001b[0m\u001b[1;33m(\u001b[0m\u001b[1;36m42.0\u001b[0m \u001b[1;33m+\u001b[0m \u001b[1;36m1.0j\u001b[0m\u001b[1;33m)\u001b[0m\u001b[1;33m\u001b[0m\u001b[0m\n\u001b[0m",
        "\u001b[1;31mTypeError\u001b[0m: can't convert complex to int"
       ],
       "output_type": "pyerr"
      }
     ],
     "input": [
      "np.int(42.0 + 1.0j)"
     ],
     "language": "python",
     "prompt_number": 48
    },
    {
     "cell_type": "code",
     "execution_count": null,
     "metadata": {},
     "outputs": [],
     "input": [
      "# not allowed to convert complex number to float either"
     ],
     "language": "python",
     "prompt_number": 49
    },
    {
     "cell_type": "code",
     "execution_count": null,
     "metadata": {},
     "outputs": [
      {
       "ename": "TypeError",
       "evalue": "can't convert complex to float",
       "traceback": [
        "\u001b[1;31m---------------------------------------------------------------------------\u001b[0m\n\u001b[1;31mTypeError\u001b[0m                                 Traceback (most recent call last)",
        "\u001b[1;32m<ipython-input-50-a117e88551a3>\u001b[0m in \u001b[0;36m<module>\u001b[1;34m()\u001b[0m\n\u001b[1;32m----> 1\u001b[1;33m \u001b[0mnp\u001b[0m\u001b[1;33m.\u001b[0m\u001b[0mfloat\u001b[0m\u001b[1;33m(\u001b[0m\u001b[1;36m42.0\u001b[0m \u001b[1;33m+\u001b[0m \u001b[1;36m1.0j\u001b[0m\u001b[1;33m)\u001b[0m\u001b[1;33m\u001b[0m\u001b[0m\n\u001b[0m",
        "\u001b[1;31mTypeError\u001b[0m: can't convert complex to float"
       ],
       "output_type": "pyerr"
      }
     ],
     "input": [
      "np.float(42.0 + 1.0j)"
     ],
     "language": "python",
     "prompt_number": 50
    },
    {
     "cell_type": "code",
     "execution_count": null,
     "metadata": {},
     "outputs": [
      {
       "metadata": {},
       "output_type": "pyout",
       "text": [
        "4"
       ]
      }
     ],
     "input": [
      "# Data types have the components byteorder and itemsize\n",
      "\n",
      "a.dtype.itemsize"
     ],
     "language": "python",
     "prompt_number": 58
    },
    {
     "cell_type": "code",
     "execution_count": null,
     "metadata": {},
     "outputs": [
      {
       "metadata": {},
       "output_type": "pyout",
       "text": [
        "array([[1, 2],\n       [3, 4]])"
       ]
      }
     ],
     "input": [
      "a"
     ],
     "language": "python",
     "prompt_number": 59
    },
    {
     "cell_type": "code",
     "execution_count": null,
     "metadata": {},
     "outputs": [
      {
       "metadata": {},
       "output_type": "pyout",
       "text": [
        "8"
       ]
      }
     ],
     "input": [
      "a = array(((1, 2), (3, 4)), dtype=uint64)\n",
      "a.dtype.itemsize"
     ],
     "language": "python",
     "prompt_number": 11
    },
    {
     "cell_type": "code",
     "execution_count": null,
     "metadata": {},
     "outputs": [
      {
       "metadata": {},
       "output_type": "pyout",
       "text": [
        "4"
       ]
      }
     ],
     "input": [
      "a = np.array(((1, 2, 3), (3, 4, 5)), dtype=np.int32)\n",
      "a.dtype.itemsize"
     ],
     "language": "python",
     "prompt_number": 67
    },
    {
     "cell_type": "code",
     "execution_count": null,
     "metadata": {},
     "outputs": [
      {
       "metadata": {},
       "output_type": "pyout",
       "text": [
        "'='"
       ]
      }
     ],
     "input": [
      "a.dtype.byteorder   # ************* what is byteorder????"
     ],
     "language": "python",
     "prompt_number": 68
    },
    {
     "cell_type": "code",
     "execution_count": null,
     "metadata": {},
     "outputs": [],
     "input": [
      "# Character codes from Numeric"
     ],
     "language": "python"
    },
    {
     "cell_type": "code",
     "execution_count": null,
     "metadata": {},
     "outputs": [
      {
       "metadata": {},
       "output_type": "pyout",
       "text": [
        "array([ 0.,  1.,  2.,  3.,  4.,  5.,  6.], dtype=float32)"
       ]
      }
     ],
     "input": [
      "np.arange(7, dtype='f')"
     ],
     "language": "python",
     "prompt_number": 71
    },
    {
     "cell_type": "code",
     "execution_count": null,
     "metadata": {},
     "outputs": [
      {
       "metadata": {},
       "output_type": "pyout",
       "text": [
        "array([ 0.+0.j,  1.+0.j,  2.+0.j,  3.+0.j,  4.+0.j,  5.+0.j,  6.+0.j])"
       ]
      }
     ],
     "input": [
      "np.arange(7, dtype='D')"
     ],
     "language": "python",
     "prompt_number": 72
    },
    {
     "cell_type": "code",
     "execution_count": null,
     "metadata": {},
     "outputs": [],
     "input": [
      "# DTYPE CONSTRUCTORS"
     ],
     "language": "python",
     "prompt_number": 73
    },
    {
     "cell_type": "code",
     "execution_count": null,
     "metadata": {},
     "outputs": [
      {
       "metadata": {},
       "output_type": "pyout",
       "text": [
        "dtype('float64')"
       ]
      }
     ],
     "input": [
      "np.dtype('float')  # double precision, way 1"
     ],
     "language": "python",
     "prompt_number": 85
    },
    {
     "cell_type": "code",
     "execution_count": null,
     "metadata": {},
     "outputs": [
      {
       "metadata": {},
       "output_type": "pyout",
       "text": [
        "dtype('float64')"
       ]
      }
     ],
     "input": [
      "np.dtype('d')   # double precision, way 2"
     ],
     "language": "python",
     "prompt_number": 86
    },
    {
     "cell_type": "code",
     "execution_count": null,
     "metadata": {},
     "outputs": [
      {
       "metadata": {},
       "output_type": "pyout",
       "text": [
        "dtype('float32')"
       ]
      }
     ],
     "input": [
      "np.dtype('f')"
     ],
     "language": "python",
     "prompt_number": 87
    },
    {
     "cell_type": "code",
     "execution_count": null,
     "metadata": {},
     "outputs": [
      {
       "metadata": {},
       "output_type": "pyout",
       "text": [
        "dtype('float64')"
       ]
      }
     ],
     "input": [
      "np.dtype('f8')   # double precision, way 3\n",
      "# the f signals type, the 8 signals number of bytes\n",
      "# output is float type, with 64 bits (1 byte = 8 bits)"
     ],
     "language": "python",
     "prompt_number": 88
    },
    {
     "cell_type": "code",
     "execution_count": null,
     "metadata": {},
     "outputs": [
      {
       "metadata": {},
       "output_type": "pyout",
       "text": [
        "dict_keys([0, 1, 'double', 3, 4, 5, 'half', 7, 8, 9, 10, 11, 12, 2, 14, 15, 'D', 17, 'd', 19, 20, 21, 22, 23, 'int', 'unicode', 'G', 'uintp', 'M8', 'Datetime64', 'cdouble', 'UInt16', 'longfloat', 6, 'H', 'longlong', 'bytes0', 'f8', 'single', 'int0', 'float', 'c8', 'Str0', 'uint16', 'UInt64', 'O8', 'byte', 'intp', 'Int8', 'bytes_', 'Float16', 'complex_', 'UInt32', 'Int64', 13, 'f4', 'uint8', 'bytes', 'bool_', 'datetime64', 'Void0', 'clongdouble', 'M', 'bool8', 16, 'Q', 'longdouble', 'ulonglong', 'i1', 'float32', 'm8', 18, 'float16', 'S', 'str', 'short', 'uint64', 'b1', 'c16', 'a', 'complex', 'str0', 'i', 'V', 'string_', 'int8', 'void', 'Complex64', 'i2', 'UInt8', 'str_', 'u4', 'Int32', 'uint0', 'I', 'clongfloat', 'int64', 'void0', 'uintc', 'intc', 'p', 'Float32', 'uint32', 'q', 'P', 'F', 'Object0', 'u8', 'object0', 'u2', 'csingle', 'l', 'object', 'L', 'complex64', 'cfloat', 'Bytes0', 'e', 'O', 'int32', 'object_', 'uint', 'i4', 'Timedelta64', 'float_', 'b', 'bool', 'g', 'long', 'U', 'Int16', 'singlecomplex', 'ushort', 'Bool', 'float64', 'Float64', 'timedelta64', 'u1', 'Complex32', 'f2', 'f', 'complex128', 'int16', 'int_', 'B', '?', 'h', 'unicode_', 'm', 'ubyte', 'i8', 'longcomplex'])"
       ]
      }
     ],
     "input": [
      "np.sctypeDict.keys()"
     ],
     "language": "python",
     "prompt_number": 90
    },
    {
     "cell_type": "code",
     "execution_count": null,
     "metadata": {},
     "outputs": [
      {
       "metadata": {},
       "output_type": "pyout",
       "text": [
        "'d'"
       ]
      }
     ],
     "input": [
      "#can get information about character code through dtype attributes\n",
      "t = dtype('Float64')\n",
      "t.char"
     ],
     "language": "python",
     "prompt_number": 12
    },
    {
     "cell_type": "code",
     "execution_count": null,
     "metadata": {},
     "outputs": [
      {
       "metadata": {},
       "output_type": "pyout",
       "text": [
        "dtype('float64')"
       ]
      }
     ],
     "input": [
      "dtype('d') # ----- inverse"
     ],
     "language": "python",
     "prompt_number": 13
    },
    {
     "cell_type": "code",
     "execution_count": null,
     "metadata": {},
     "outputs": [
      {
       "metadata": {},
       "output_type": "pyout",
       "text": [
        "numpy.float64"
       ]
      }
     ],
     "input": [
      "# OR\n",
      "t.type"
     ],
     "language": "python",
     "prompt_number": 15
    },
    {
     "cell_type": "code",
     "execution_count": null,
     "metadata": {},
     "outputs": [
      {
       "metadata": {},
       "output_type": "pyout",
       "text": [
        "dtype([('name', '<U40'), ('numitems', '<i4'), ('price', '<f4')])"
       ]
      }
     ],
     "input": [
      "# Creating a record data type!\n",
      "\n",
      "t = dtype([('name', str_, 40), ('numitems', int32), ('price', float32)])\n",
      "t"
     ],
     "language": "python",
     "prompt_number": 19
    },
    {
     "cell_type": "code",
     "execution_count": null,
     "metadata": {},
     "outputs": [
      {
       "metadata": {},
       "output_type": "pyout",
       "text": [
        "dtype('<U40')"
       ]
      }
     ],
     "input": [
      "t['name']"
     ],
     "language": "python",
     "prompt_number": 17
    },
    {
     "cell_type": "code",
     "execution_count": null,
     "metadata": {},
     "outputs": [
      {
       "metadata": {},
       "output_type": "pyout",
       "text": [
        "('Butter', 13, 2.7200000286102295)"
       ]
      }
     ],
     "input": [
      "items = array([('Meaning of life DVD', 42, 3.14), ('Butter', 13, 2.72)], dtype=t)\n",
      "items[1]"
     ],
     "language": "python",
     "prompt_number": 18
    },
    {
     "cell_type": "code",
     "execution_count": null,
     "metadata": {},
     "outputs": [
      {
       "metadata": {},
       "output_type": "pyout",
       "text": [
        "array([3, 4, 5, 6])"
       ]
      }
     ],
     "input": [
      "a = arange(9)\n",
      "a[3:7] # slicing from start to end - 1"
     ],
     "language": "python",
     "prompt_number": 20
    },
    {
     "cell_type": "code",
     "execution_count": null,
     "metadata": {},
     "outputs": [
      {
       "metadata": {},
       "output_type": "pyout",
       "text": [
        "array([0, 2, 4, 6])"
       ]
      }
     ],
     "input": [
      "a[:7:2] # from - to 7-1 with a step of 2"
     ],
     "language": "python",
     "prompt_number": 23
    },
    {
     "cell_type": "code",
     "execution_count": null,
     "metadata": {},
     "outputs": [
      {
       "metadata": {},
       "output_type": "pyout",
       "text": [
        "array([8, 7, 6, 5, 4, 3, 2, 1, 0])"
       ]
      }
     ],
     "input": [
      "a[::-1] # means the whole array without the end, and reversed"
     ],
     "language": "python",
     "prompt_number": 24
    },
    {
     "cell_type": "code",
     "execution_count": null,
     "metadata": {},
     "outputs": [
      {
       "metadata": {},
       "output_type": "pyout",
       "text": [
        "array([[[ 0,  1,  2,  3],\n        [ 4,  5,  6,  7],\n        [ 8,  9, 10, 11]],\n\n       [[12, 13, 14, 15],\n        [16, 17, 18, 19],\n        [20, 21, 22, 23]]])"
       ]
      }
     ],
     "input": [
      "b = arange(24).reshape(2, 3, 4)\n",
      "b # 2 horizontal rows, 3 vertical rows, 4 columns\n",
      "# (horizontal: first row = 0,1,2,3, second row = 12,13,14,15)\n",
      "# (vertical: first row = 0-3 and 12-15 are alongside each other\n",
      "# ... 4-7 and 16-19 are alongside and so on...)\n",
      "# (columns: 0,4,8 and 12,16,20 are alongside each other... )"
     ],
     "language": "python",
     "prompt_number": 5
    },
    {
     "cell_type": "code",
     "execution_count": null,
     "metadata": {},
     "outputs": [
      {
       "metadata": {},
       "output_type": "pyout",
       "text": [
        "array([[[ 0,  1,  2,  3],\n        [ 4,  5,  6,  7]],\n\n       [[ 8,  9, 10, 11],\n        [12, 13, 14, 15]],\n\n       [[16, 17, 18, 19],\n        [20, 21, 22, 23]],\n\n       [[24, 25, 26, 27],\n        [28, 29, 30, 31]],\n\n       [[32, 33, 34, 35],\n        [36, 37, 38, 39]],\n\n       [[40, 41, 42, 43],\n        [44, 45, 46, 47]]])"
       ]
      }
     ],
     "input": [
      "from numpy import *\n",
      "b = arange(48).reshape(6, 2, 4)\n",
      "b"
     ],
     "language": "python",
     "prompt_number": 6
    },
    {
     "cell_type": "code",
     "execution_count": null,
     "metadata": {},
     "outputs": [
      {
       "metadata": {},
       "output_type": "pyout",
       "text": [
        "array([[[ 0,  1,  2,  3,  4,  5],\n        [ 6,  7,  8,  9, 10, 11]],\n\n       [[12, 13, 14, 15, 16, 17],\n        [18, 19, 20, 21, 22, 23]],\n\n       [[24, 25, 26, 27, 28, 29],\n        [30, 31, 32, 33, 34, 35]],\n\n       [[36, 37, 38, 39, 40, 41],\n        [42, 43, 44, 45, 46, 47]]])"
       ]
      }
     ],
     "input": [
      "b = arange(48).reshape(4, 2, 6)\n",
      "b"
     ],
     "language": "python",
     "prompt_number": 9
    },
    {
     "cell_type": "code",
     "execution_count": null,
     "metadata": {},
     "outputs": [
      {
       "metadata": {},
       "output_type": "pyout",
       "text": [
        "array([[[ 0,  1,  2,  3,  4,  5,  6,  7,  8],\n        [ 9, 10, 11, 12, 13, 14, 15, 16, 17]],\n\n       [[18, 19, 20, 21, 22, 23, 24, 25, 26],\n        [27, 28, 29, 30, 31, 32, 33, 34, 35]],\n\n       [[36, 37, 38, 39, 40, 41, 42, 43, 44],\n        [45, 46, 47, 48, 49, 50, 51, 52, 53]]])"
       ]
      }
     ],
     "input": [
      "b = arange(54).reshape(3, 2, 9)\n",
      "b # 3 boxes, width=2, length=9"
     ],
     "language": "python",
     "prompt_number": 15
    },
    {
     "cell_type": "code",
     "execution_count": null,
     "metadata": {},
     "outputs": [
      {
       "metadata": {},
       "output_type": "pyout",
       "text": [
        "array([[[  0,   1,   2,   3,   4,   5],\n        [  6,   7,   8,   9,  10,  11],\n        [ 12,  13,  14,  15,  16,  17],\n        [ 18,  19,  20,  21,  22,  23]],\n\n       [[ 24,  25,  26,  27,  28,  29],\n        [ 30,  31,  32,  33,  34,  35],\n        [ 36,  37,  38,  39,  40,  41],\n        [ 42,  43,  44,  45,  46,  47]],\n\n       [[ 48,  49,  50,  51,  52,  53],\n        [ 54,  55,  56,  57,  58,  59],\n        [ 60,  61,  62,  63,  64,  65],\n        [ 66,  67,  68,  69,  70,  71]],\n\n       [[ 72,  73,  74,  75,  76,  77],\n        [ 78,  79,  80,  81,  82,  83],\n        [ 84,  85,  86,  87,  88,  89],\n        [ 90,  91,  92,  93,  94,  95]],\n\n       [[ 96,  97,  98,  99, 100, 101],\n        [102, 103, 104, 105, 106, 107],\n        [108, 109, 110, 111, 112, 113],\n        [114, 115, 116, 117, 118, 119]],\n\n       [[120, 121, 122, 123, 124, 125],\n        [126, 127, 128, 129, 130, 131],\n        [132, 133, 134, 135, 136, 137],\n        [138, 139, 140, 141, 142, 143]],\n\n       [[144, 145, 146, 147, 148, 149],\n        [150, 151, 152, 153, 154, 155],\n        [156, 157, 158, 159, 160, 161],\n        [162, 163, 164, 165, 166, 167]],\n\n       [[168, 169, 170, 171, 172, 173],\n        [174, 175, 176, 177, 178, 179],\n        [180, 181, 182, 183, 184, 185],\n        [186, 187, 188, 189, 190, 191]],\n\n       [[192, 193, 194, 195, 196, 197],\n        [198, 199, 200, 201, 202, 203],\n        [204, 205, 206, 207, 208, 209],\n        [210, 211, 212, 213, 214, 215]]])"
       ]
      }
     ],
     "input": [
      "b = arange(216).reshape(9, 4, 6)\n",
      "b"
     ],
     "language": "python",
     "prompt_number": 20
    },
    {
     "cell_type": "code",
     "execution_count": null,
     "metadata": {},
     "outputs": [
      {
       "metadata": {},
       "output_type": "pyout",
       "text": [
        "array([[192, 193, 194, 195, 196, 197],\n       [198, 199, 200, 201, 202, 203],\n       [204, 205, 206, 207, 208, 209],\n       [210, 211, 212, 213, 214, 215]])"
       ]
      }
     ],
     "input": [
      "b[8] # last box"
     ],
     "language": "python",
     "prompt_number": 21
    },
    {
     "cell_type": "code",
     "execution_count": null,
     "metadata": {},
     "outputs": [
      {
       "metadata": {},
       "output_type": "pyout",
       "text": [
        "41"
       ]
      }
     ],
     "input": [
      "b[1][2][5] # 2nd box, 3rd row, 5th/last column"
     ],
     "language": "python",
     "prompt_number": 24
    },
    {
     "cell_type": "code",
     "execution_count": null,
     "metadata": {},
     "outputs": [
      {
       "metadata": {},
       "output_type": "pyout",
       "text": [
        "170"
       ]
      }
     ],
     "input": [
      "# SELECT ITEM\n",
      "\n",
      "b[7][0][2] #8th floor, 1st"
     ],
     "language": "python",
     "prompt_number": 25
    },
    {
     "cell_type": "code",
     "execution_count": null,
     "metadata": {},
     "outputs": [
      {
       "metadata": {},
       "output_type": "pyout",
       "text": [
        "array([30, 31, 32, 33, 34, 35])"
       ]
      }
     ],
     "input": [
      "b[1][1]"
     ],
     "language": "python",
     "prompt_number": 26
    },
    {
     "cell_type": "code",
     "execution_count": null,
     "metadata": {},
     "outputs": [
      {
       "metadata": {},
       "output_type": "pyout",
       "text": [
        "matrix([[ 3],\n        [ 9],\n        [15],\n        [21]])"
       ]
      }
     ],
     "input": [
      "col = asmatrix(b[0,:,3])\n",
      "col.T"
     ],
     "language": "python",
     "prompt_number": 45
    },
    {
     "cell_type": "code",
     "execution_count": null,
     "metadata": {},
     "outputs": [
      {
       "metadata": {},
       "output_type": "pyout",
       "text": [
        "array([[ 0,  1,  2,  3,  4,  5],\n       [ 6,  7,  8,  9, 10, 11],\n       [12, 13, 14, 15, 16, 17],\n       [18, 19, 20, 21, 22, 23]])"
       ]
      }
     ],
     "input": [
      "# SELECT FLOOR\n",
      "\n",
      "b[0]"
     ],
     "language": "python",
     "prompt_number": 46
    },
    {
     "cell_type": "code",
     "execution_count": null,
     "metadata": {},
     "outputs": [
      {
       "metadata": {},
       "output_type": "pyout",
       "text": [
        "array([[ 0,  1,  2,  3,  4,  5],\n       [ 6,  7,  8,  9, 10, 11],\n       [12, 13, 14, 15, 16, 17],\n       [18, 19, 20, 21, 22, 23]])"
       ]
      }
     ],
     "input": [
      "b[0, :, :]"
     ],
     "language": "python",
     "prompt_number": 47
    },
    {
     "cell_type": "code",
     "execution_count": null,
     "metadata": {},
     "outputs": [
      {
       "metadata": {},
       "output_type": "pyout",
       "text": [
        "array([[ 0,  1,  2,  3,  4,  5],\n       [ 6,  7,  8,  9, 10, 11],\n       [12, 13, 14, 15, 16, 17],\n       [18, 19, 20, 21, 22, 23]])"
       ]
      }
     ],
     "input": [
      "#or\n",
      "b[0, ...]"
     ],
     "language": "python",
     "prompt_number": 48
    },
    {
     "cell_type": "code",
     "execution_count": null,
     "metadata": {},
     "outputs": [
      {
       "metadata": {},
       "output_type": "pyout",
       "text": [
        "array([ 6,  7,  8,  9, 10, 11])"
       ]
      }
     ],
     "input": [
      "# SELECT ROW\n",
      "\n",
      "b[0, 1] #1st floor, 2nd row"
     ],
     "language": "python",
     "prompt_number": 51
    },
    {
     "cell_type": "code",
     "execution_count": null,
     "metadata": {},
     "outputs": [
      {
       "metadata": {},
       "output_type": "pyout",
       "text": [
        "array([ 6,  8, 10])"
       ]
      }
     ],
     "input": [
      "# STEPPING\n",
      "\n",
      "# steps to slice\n",
      "b[0,1,::2] # selecting every second element"
     ],
     "language": "python",
     "prompt_number": 57
    },
    {
     "cell_type": "code",
     "execution_count": null,
     "metadata": {},
     "outputs": [
      {
       "metadata": {},
       "output_type": "pyout",
       "text": [
        "matrix([[  1,  25,  49,  73,  97, 121, 145, 169, 193],\n        [  7,  31,  55,  79, 103, 127, 151, 175, 199],\n        [ 13,  37,  61,  85, 109, 133, 157, 181, 205],\n        [ 19,  43,  67,  91, 115, 139, 163, 187, 211]])"
       ]
      }
     ],
     "input": [
      "# SELECT MULTIPLE COLUMNS\n",
      "\n",
      "# all the #1 columns, regardless of row, on all floors\n",
      "asmatrix(b[...,1]).T"
     ],
     "language": "python",
     "prompt_number": 60
    },
    {
     "cell_type": "code",
     "execution_count": null,
     "metadata": {},
     "outputs": [
      {
       "metadata": {},
       "output_type": "pyout",
       "text": [
        "array([173, 179, 185, 191])"
       ]
      }
     ],
     "input": [
      "# SELECT COLUMN\n",
      "\n",
      "b[7,:,5]"
     ],
     "language": "python",
     "prompt_number": 62
    },
    {
     "cell_type": "code",
     "execution_count": null,
     "metadata": {},
     "outputs": [
      {
       "metadata": {},
       "output_type": "pyout",
       "text": [
        "array([[[ 0,  1,  2,  3],\n        [ 4,  5,  6,  7],\n        [ 8,  9, 10, 11]],\n\n       [[12, 13, 14, 15],\n        [16, 17, 18, 19],\n        [20, 21, 22, 23]]])"
       ]
      }
     ],
     "input": [
      "b = arange(24).reshape(2, 3, 4)\n",
      "b"
     ],
     "language": "python",
     "prompt_number": 63
    },
    {
     "cell_type": "code",
     "execution_count": null,
     "metadata": {},
     "outputs": [
      {
       "metadata": {},
       "output_type": "pyout",
       "text": [
        "array([ 3,  7, 11])"
       ]
      }
     ],
     "input": [
      "# NEGATIVE INDICES\n",
      "# -> first floor, last column\n",
      "b[0,:,-1]"
     ],
     "language": "python",
     "prompt_number": 64
    },
    {
     "cell_type": "code",
     "execution_count": null,
     "metadata": {},
     "outputs": [
      {
       "metadata": {},
       "output_type": "pyout",
       "text": [
        "array([11,  3])"
       ]
      }
     ],
     "input": [
      "# ground floor, last column reversed and step 2\n",
      "b[0,::-2, -1]"
     ],
     "language": "python",
     "prompt_number": 66
    },
    {
     "cell_type": "code",
     "execution_count": null,
     "metadata": {},
     "outputs": [
      {
       "metadata": {},
       "output_type": "pyout",
       "text": [
        "array([[[12, 13, 14, 15],\n        [16, 17, 18, 19],\n        [20, 21, 22, 23]],\n\n       [[ 0,  1,  2,  3],\n        [ 4,  5,  6,  7],\n        [ 8,  9, 10, 11]]])"
       ]
      }
     ],
     "input": [
      "b[::-1] # switching the floors"
     ],
     "language": "python",
     "prompt_number": 67
    },
    {
     "cell_type": "code",
     "execution_count": null,
     "metadata": {},
     "outputs": [
      {
       "metadata": {},
       "output_type": "pyout",
       "text": [
        "array([[[ 0,  1,  2,  3],\n        [ 4,  5,  6,  7],\n        [ 8,  9, 10, 11]],\n\n       [[12, 13, 14, 15],\n        [16, 17, 18, 19],\n        [20, 21, 22, 23]]])"
       ]
      }
     ],
     "input": [
      "# ravel flattening\n",
      "b"
     ],
     "language": "python",
     "prompt_number": 68
    },
    {
     "cell_type": "code",
     "execution_count": null,
     "metadata": {},
     "outputs": [
      {
       "metadata": {},
       "output_type": "pyout",
       "text": [
        "array([ 0,  1,  2,  3,  4,  5,  6,  7,  8,  9, 10, 11, 12, 13, 14, 15, 16,\n       17, 18, 19, 20, 21, 22, 23])"
       ]
      }
     ],
     "input": [
      "b.ravel()"
     ],
     "language": "python",
     "prompt_number": 69
    },
    {
     "cell_type": "code",
     "execution_count": null,
     "metadata": {},
     "outputs": [
      {
       "metadata": {},
       "output_type": "pyout",
       "text": [
        "array([ 0,  1,  2,  3,  4,  5,  6,  7,  8,  9, 10, 11, 12, 13, 14, 15, 16,\n       17, 18, 19, 20, 21, 22, 23])"
       ]
      }
     ],
     "input": [
      "b.flatten() # also allocates new memory but ravel returns view"
     ],
     "language": "python",
     "prompt_number": 70
    },
    {
     "cell_type": "code",
     "execution_count": null,
     "metadata": {},
     "outputs": [
      {
       "metadata": {},
       "output_type": "pyout",
       "text": [
        "array([[ 0,  1,  2,  3],\n       [ 4,  5,  6,  7],\n       [ 8,  9, 10, 11],\n       [12, 13, 14, 15],\n       [16, 17, 18, 19],\n       [20, 21, 22, 23]])"
       ]
      }
     ],
     "input": [
      "# set the shape\n",
      "b.shape = (6, 4)\n",
      "b"
     ],
     "language": "python",
     "prompt_number": 72
    },
    {
     "cell_type": "code",
     "execution_count": null,
     "metadata": {},
     "outputs": [
      {
       "metadata": {},
       "output_type": "pyout",
       "text": [
        "array([[[ 0,  1],\n        [ 2,  3],\n        [ 4,  5]],\n\n       [[ 6,  7],\n        [ 8,  9],\n        [10, 11]],\n\n       [[12, 13],\n        [14, 15],\n        [16, 17]],\n\n       [[18, 19],\n        [20, 21],\n        [22, 23]]])"
       ]
      }
     ],
     "input": [
      "b.shape = (4, 3, 2)\n",
      "b"
     ],
     "language": "python",
     "prompt_number": 83
    },
    {
     "cell_type": "code",
     "execution_count": null,
     "metadata": {},
     "outputs": [
      {
       "metadata": {},
       "output_type": "pyout",
       "text": [
        "array([[[ 0,  6, 12, 18],\n        [ 2,  8, 14, 20],\n        [ 4, 10, 16, 22]],\n\n       [[ 1,  7, 13, 19],\n        [ 3,  9, 15, 21],\n        [ 5, 11, 17, 23]]])"
       ]
      }
     ],
     "input": [
      "b.transpose()"
     ],
     "language": "python",
     "prompt_number": 84
    },
    {
     "cell_type": "code",
     "execution_count": null,
     "metadata": {},
     "outputs": [
      {
       "metadata": {},
       "output_type": "pyout",
       "text": [
        "array([[ 0,  1,  2,  3],\n       [ 4,  5,  6,  7],\n       [ 8,  9, 10, 11],\n       [12, 13, 14, 15],\n       [16, 17, 18, 19],\n       [20, 21, 22, 23]])"
       ]
      }
     ],
     "input": [
      "b.shape = (6, 4)\n",
      "b"
     ],
     "language": "python",
     "prompt_number": 81
    },
    {
     "cell_type": "code",
     "execution_count": null,
     "metadata": {},
     "outputs": [
      {
       "metadata": {},
       "output_type": "pyout",
       "text": [
        "array([[ 0,  4,  8, 12, 16, 20],\n       [ 1,  5,  9, 13, 17, 21],\n       [ 2,  6, 10, 14, 18, 22],\n       [ 3,  7, 11, 15, 19, 23]])"
       ]
      }
     ],
     "input": [
      "b.transpose()"
     ],
     "language": "python",
     "prompt_number": 82
    },
    {
     "cell_type": "code",
     "execution_count": null,
     "metadata": {},
     "outputs": [
      {
       "metadata": {},
       "output_type": "pyout",
       "text": [
        "array([[[ 0,  1],\n        [ 2,  3],\n        [ 4,  5],\n        [ 6,  7]],\n\n       [[ 8,  9],\n        [10, 11],\n        [12, 13],\n        [14, 15]],\n\n       [[16, 17],\n        [18, 19],\n        [20, 21],\n        [22, 23]]])"
       ]
      }
     ],
     "input": [
      "b.shape = (3, 4, 2)\n",
      "b"
     ],
     "language": "python",
     "prompt_number": 90
    },
    {
     "cell_type": "code",
     "execution_count": null,
     "metadata": {},
     "outputs": [
      {
       "metadata": {},
       "output_type": "pyout",
       "text": [
        "(2, 4, 3)"
       ]
      }
     ],
     "input": [
      "a = b.transpose()\n",
      "a.shape"
     ],
     "language": "python",
     "prompt_number": 91
    },
    {
     "cell_type": "code",
     "execution_count": null,
     "metadata": {},
     "outputs": [
      {
       "metadata": {},
       "output_type": "pyout",
       "text": [
        "array([[[ 0,  8, 16],\n        [ 2, 10, 18],\n        [ 4, 12, 20],\n        [ 6, 14, 22]],\n\n       [[ 1,  9, 17],\n        [ 3, 11, 19],\n        [ 5, 13, 21],\n        [ 7, 15, 23]]])"
       ]
      }
     ],
     "input": [
      "a"
     ],
     "language": "python",
     "prompt_number": 92
    },
    {
     "cell_type": "code",
     "execution_count": null,
     "metadata": {},
     "outputs": [
      {
       "metadata": {},
       "output_type": "pyout",
       "text": [
        "array([[[ 0,  1,  2,  3,  4,  5,  6,  7,  8,  9, 10, 11],\n        [12, 13, 14, 15, 16, 17, 18, 19, 20, 21, 22, 23]]])"
       ]
      }
     ],
     "input": [
      "b.reshape(1, 2, 12)"
     ],
     "language": "python",
     "prompt_number": 98
    },
    {
     "cell_type": "code",
     "execution_count": null,
     "metadata": {},
     "outputs": [
      {
       "metadata": {},
       "output_type": "pyout",
       "text": [
        "array([[ 0,  1,  2,  3,  4,  5,  6,  7,  8,  9, 10, 11],\n       [12, 13, 14, 15, 16, 17, 18, 19, 20, 21, 22, 23]])"
       ]
      }
     ],
     "input": [
      "b.resize((2, 12))\n",
      "b # resize modifies array it operates on"
     ],
     "language": "python",
     "prompt_number": 96
    },
    {
     "cell_type": "code",
     "execution_count": null,
     "metadata": {},
     "outputs": [],
     "input": [
      "# STACKING ****************************"
     ],
     "language": "python"
    },
    {
     "cell_type": "code",
     "execution_count": null,
     "metadata": {},
     "outputs": [
      {
       "metadata": {},
       "output_type": "pyout",
       "text": [
        "array([[0, 1, 2],\n       [3, 4, 5],\n       [6, 7, 8]])"
       ]
      }
     ],
     "input": [
      "a = arange(9).reshape(3, 3)\n",
      "a"
     ],
     "language": "python",
     "prompt_number": 100
    },
    {
     "cell_type": "code",
     "execution_count": null,
     "metadata": {},
     "outputs": [
      {
       "metadata": {},
       "output_type": "pyout",
       "text": [
        "array([[ 0,  2,  4],\n       [ 6,  8, 10],\n       [12, 14, 16]])"
       ]
      }
     ],
     "input": [
      "b = 2*a\n",
      "b"
     ],
     "language": "python",
     "prompt_number": 102
    },
    {
     "cell_type": "code",
     "execution_count": null,
     "metadata": {},
     "outputs": [
      {
       "stream": "hstack:\n [[ 0  1  2  0  2  4]\n [ 3  4  5  6  8 10]\n [ 6  7  8 12 14 16]]\nvstack:\n [[ 0  1  2]\n [ 3  4  5]\n [ 6  7  8]\n [ 0  2  4]\n [ 6  8 10]\n [12 14 16]]\nhstack:\n [[ 0  2  4  0  1  2]\n [ 6  8 10  3  4  5]\n [12 14 16  6  7  8]]\nvstack:\n [[ 0  2  4]\n [ 6  8 10]\n [12 14 16]\n [ 0  1  2]\n [ 3  4  5]\n [ 6  7  8]]\n",
       "output_type": "stream",
       "text": [
        "hstack:\n [[ 0  1  2  0  2  4]\n [ 3  4  5  6  8 10]\n [ 6  7  8 12 14 16]]\nvstack:\n [[ 0  1  2]\n [ 3  4  5]\n [ 6  7  8]\n [ 0  2  4]\n [ 6  8 10]\n [12 14 16]]\nhstack:\n [[ 0  2  4  0  1  2]\n [ 6  8 10  3  4  5]\n [12 14 16  6  7  8]]\nvstack:\n [[ 0  2  4]\n [ 6  8 10]\n [12 14 16]\n [ 0  1  2]\n [ 3  4  5]\n [ 6  7  8]]\n"
       ]
      }
     ],
     "input": [
      "print(\"hstack:\\n\", hstack((a, b)))\n",
      "print(\"vstack:\\n\", vstack((a, b)))\n",
      "print(\"hstack:\\n\", hstack((b, a)))\n",
      "print(\"vstack:\\n\", vstack((b, a)))"
     ],
     "language": "python",
     "prompt_number": 111
    },
    {
     "cell_type": "code",
     "execution_count": null,
     "metadata": {},
     "outputs": [
      {
       "metadata": {},
       "output_type": "pyout",
       "text": [
        "array([[ 0,  1,  2],\n       [ 3,  4,  5],\n       [ 6,  7,  8],\n       [ 0,  2,  4],\n       [ 6,  8, 10],\n       [12, 14, 16]])"
       ]
      }
     ],
     "input": [
      "# or concatenate\n",
      "concatenate((a, b), axis=0)"
     ],
     "language": "python",
     "prompt_number": 113
    },
    {
     "cell_type": "code",
     "execution_count": null,
     "metadata": {},
     "outputs": [
      {
       "metadata": {},
       "output_type": "pyout",
       "text": [
        "array([[ 0,  2,  4,  0,  1,  2],\n       [ 6,  8, 10,  3,  4,  5],\n       [12, 14, 16,  6,  7,  8]])"
       ]
      }
     ],
     "input": [
      "concatenate((b, a), axis=1)"
     ],
     "language": "python",
     "prompt_number": 114
    },
    {
     "cell_type": "code",
     "execution_count": null,
     "metadata": {},
     "outputs": [
      {
       "metadata": {},
       "output_type": "pyout",
       "text": [
        "array([[[ 0,  0],\n        [ 1,  2],\n        [ 2,  4]],\n\n       [[ 3,  6],\n        [ 4,  8],\n        [ 5, 10]],\n\n       [[ 6, 12],\n        [ 7, 14],\n        [ 8, 16]]])"
       ]
      }
     ],
     "input": [
      "# Depth stacking = SLICES OFF ROWS AND MAKES THEM COLUMNS \n",
      "dstack((a, b))"
     ],
     "language": "python",
     "prompt_number": 115
    },
    {
     "cell_type": "code",
     "execution_count": null,
     "metadata": {},
     "outputs": [
      {
       "metadata": {},
       "output_type": "pyout",
       "text": [
        "array([0, 1])"
       ]
      }
     ],
     "input": [
      "# column stack = hstack\n",
      "oned = arange(2)\n",
      "oned"
     ],
     "language": "python",
     "prompt_number": 119
    },
    {
     "cell_type": "code",
     "execution_count": null,
     "metadata": {},
     "outputs": [
      {
       "metadata": {},
       "output_type": "pyout",
       "text": [
        "array([0, 2])"
       ]
      }
     ],
     "input": [
      "twiceoned = 2*oned\n",
      "twiceoned"
     ],
     "language": "python",
     "prompt_number": 120
    },
    {
     "cell_type": "code",
     "execution_count": null,
     "metadata": {},
     "outputs": [
      {
       "metadata": {},
       "output_type": "pyout",
       "text": [
        "array([[0, 0],\n       [1, 2]])"
       ]
      }
     ],
     "input": [
      "column_stack((oned, twiceoned))"
     ],
     "language": "python",
     "prompt_number": 121
    },
    {
     "cell_type": "code",
     "execution_count": null,
     "metadata": {},
     "outputs": [
      {
       "metadata": {},
       "output_type": "pyout",
       "text": [
        "array([[ 0,  1,  2,  0,  2,  4],\n       [ 3,  4,  5,  6,  8, 10],\n       [ 6,  7,  8, 12, 14, 16]])"
       ]
      }
     ],
     "input": [
      "column_stack((a, b))"
     ],
     "language": "python",
     "prompt_number": 123
    },
    {
     "cell_type": "code",
     "execution_count": null,
     "metadata": {},
     "outputs": [
      {
       "metadata": {},
       "output_type": "pyout",
       "text": [
        "array([[ True,  True,  True,  True,  True,  True],\n       [ True,  True,  True,  True,  True,  True],\n       [ True,  True,  True,  True,  True,  True]], dtype=bool)"
       ]
      }
     ],
     "input": [
      "column_stack((a, b)) == hstack((a, b))"
     ],
     "language": "python",
     "prompt_number": 124
    },
    {
     "cell_type": "code",
     "execution_count": null,
     "metadata": {},
     "outputs": [
      {
       "metadata": {},
       "output_type": "pyout",
       "text": [
        "array([[ True,  True,  True],\n       [ True,  True,  True],\n       [ True,  True,  True],\n       [ True,  True,  True],\n       [ True,  True,  True],\n       [ True,  True,  True]], dtype=bool)"
       ]
      }
     ],
     "input": [
      "row_stack((a, b)) == vstack((a, b))"
     ],
     "language": "python",
     "prompt_number": 125
    },
    {
     "cell_type": "code",
     "execution_count": null,
     "metadata": {},
     "outputs": [
      {
       "metadata": {},
       "output_type": "pyout",
       "text": [
        "array([[ 0,  1,  2],\n       [ 3,  4,  5],\n       [ 6,  7,  8],\n       [ 0,  2,  4],\n       [ 6,  8, 10],\n       [12, 14, 16]])"
       ]
      }
     ],
     "input": [
      "row_stack((a, b))"
     ],
     "language": "python",
     "prompt_number": 126
    },
    {
     "cell_type": "code",
     "execution_count": null,
     "metadata": {},
     "outputs": [],
     "input": [
      "# SPLITTING ****************************"
     ],
     "language": "python"
    },
    {
     "cell_type": "code",
     "execution_count": null,
     "metadata": {},
     "outputs": [
      {
       "metadata": {},
       "output_type": "pyout",
       "text": [
        "array([[0, 1, 2],\n       [3, 4, 5],\n       [6, 7, 8]])"
       ]
      }
     ],
     "input": [
      "a"
     ],
     "language": "python",
     "prompt_number": 127
    },
    {
     "cell_type": "code",
     "execution_count": null,
     "metadata": {},
     "outputs": [
      {
       "metadata": {},
       "output_type": "pyout",
       "text": [
        "(array([[0],\n        [3],\n        [6]]), array([[1],\n        [4],\n        [7]]), array([[2],\n        [5],\n        [8]]))"
       ]
      }
     ],
     "input": [
      "# splits along horizontal axis = gets the columns\n",
      "array = hsplit(a, 3) \n",
      "array[0], array[1], array[2]"
     ],
     "language": "python",
     "prompt_number": 139
    },
    {
     "cell_type": "code",
     "execution_count": null,
     "metadata": {},
     "outputs": [
      {
       "metadata": {},
       "output_type": "pyout",
       "text": [
        "[array([[0],\n        [3],\n        [6]]), array([[1],\n        [4],\n        [7]]), array([[2],\n        [5],\n        [8]])]"
       ]
      }
     ],
     "input": [
      "# same as\n",
      "split(a, 3, axis=1)"
     ],
     "language": "python",
     "prompt_number": 136
    },
    {
     "cell_type": "code",
     "execution_count": null,
     "metadata": {},
     "outputs": [
      {
       "metadata": {},
       "output_type": "pyout",
       "text": [
        "[array([[0, 1, 2]]), array([[3, 4, 5]]), array([[6, 7, 8]])]"
       ]
      }
     ],
     "input": [
      "#vsplit along vertical axis == gets the rows\n",
      "vsplit(a, 3)"
     ],
     "language": "python",
     "prompt_number": 137
    },
    {
     "cell_type": "code",
     "execution_count": null,
     "metadata": {},
     "outputs": [
      {
       "metadata": {},
       "output_type": "pyout",
       "text": [
        "[array([[0, 1, 2]]), array([[3, 4, 5]]), array([[6, 7, 8]])]"
       ]
      }
     ],
     "input": [
      "# same as\n",
      "split(a, 3, axis=0)"
     ],
     "language": "python",
     "prompt_number": 140
    },
    {
     "cell_type": "code",
     "execution_count": null,
     "metadata": {},
     "outputs": [
      {
       "metadata": {},
       "output_type": "pyout",
       "text": [
        "array([[[ 0,  1,  2],\n        [ 3,  4,  5],\n        [ 6,  7,  8]],\n\n       [[ 9, 10, 11],\n        [12, 13, 14],\n        [15, 16, 17]],\n\n       [[18, 19, 20],\n        [21, 22, 23],\n        [24, 25, 26]]])"
       ]
      }
     ],
     "input": [
      "# depth splitting\n",
      "c = arange(27).reshape(3,3,3)\n",
      "c"
     ],
     "language": "python",
     "prompt_number": 142
    },
    {
     "cell_type": "code",
     "execution_count": null,
     "metadata": {},
     "outputs": [
      {
       "metadata": {},
       "output_type": "pyout",
       "text": [
        "[array([[[ 0],\n         [ 3],\n         [ 6]],\n \n        [[ 9],\n         [12],\n         [15]],\n \n        [[18],\n         [21],\n         [24]]]), array([[[ 1],\n         [ 4],\n         [ 7]],\n \n        [[10],\n         [13],\n         [16]],\n \n        [[19],\n         [22],\n         [25]]]), array([[[ 2],\n         [ 5],\n         [ 8]],\n \n        [[11],\n         [14],\n         [17]],\n \n        [[20],\n         [23],\n         [26]]])]"
       ]
      }
     ],
     "input": [
      "mat = dsplit(c, 3) #splits up the columns\n",
      "mat"
     ],
     "language": "python",
     "prompt_number": 144
    },
    {
     "cell_type": "code",
     "execution_count": null,
     "metadata": {},
     "outputs": [
      {
       "metadata": {},
       "output_type": "pyout",
       "text": [
        "array([[2],\n       [5],\n       [8]])"
       ]
      }
     ],
     "input": [
      "mat[2][0]"
     ],
     "language": "python",
     "prompt_number": 149
    },
    {
     "cell_type": "code",
     "execution_count": null,
     "metadata": {},
     "outputs": [
      {
       "metadata": {},
       "output_type": "pyout",
       "text": [
        "array([[ 0,  1,  2,  3,  4,  5,  6,  7,  8,  9, 10, 11],\n       [12, 13, 14, 15, 16, 17, 18, 19, 20, 21, 22, 23]])"
       ]
      }
     ],
     "input": [
      "b = arange(24).reshape(2, 12)\n",
      "b"
     ],
     "language": "python",
     "prompt_number": 174
    },
    {
     "cell_type": "code",
     "execution_count": null,
     "metadata": {},
     "outputs": [
      {
       "metadata": {},
       "output_type": "pyout",
       "text": [
        "2"
       ]
      }
     ],
     "input": [
      "b.ndim # two dimensional"
     ],
     "language": "python",
     "prompt_number": 175
    },
    {
     "cell_type": "code",
     "execution_count": null,
     "metadata": {},
     "outputs": [
      {
       "metadata": {},
       "output_type": "pyout",
       "text": [
        "3"
       ]
      }
     ],
     "input": [
      "# but\n",
      "b.shape = (1, 2, 12)\n",
      "b.ndim # 3 dimensional"
     ],
     "language": "python",
     "prompt_number": 160
    },
    {
     "cell_type": "code",
     "execution_count": null,
     "metadata": {},
     "outputs": [
      {
       "metadata": {},
       "output_type": "pyout",
       "text": [
        "24"
       ]
      }
     ],
     "input": [
      "# size = number of elements = volume or area..\n",
      "b.size"
     ],
     "language": "python",
     "prompt_number": 161
    },
    {
     "cell_type": "code",
     "execution_count": null,
     "metadata": {},
     "outputs": [
      {
       "metadata": {},
       "output_type": "pyout",
       "text": [
        "4"
       ]
      }
     ],
     "input": [
      "b.itemsize # gives number of bytes for each element in array \n",
      "# now using int32 not int64 because result = 4 bytes"
     ],
     "language": "python",
     "prompt_number": 164
    },
    {
     "cell_type": "code",
     "execution_count": null,
     "metadata": {},
     "outputs": [
      {
       "metadata": {},
       "output_type": "pyout",
       "text": [
        "dtype('int32')"
       ]
      }
     ],
     "input": [
      "b.dtype"
     ],
     "language": "python",
     "prompt_number": 165
    },
    {
     "cell_type": "code",
     "execution_count": null,
     "metadata": {},
     "outputs": [
      {
       "metadata": {},
       "output_type": "pyout",
       "text": [
        "8"
       ]
      }
     ],
     "input": [
      "b.dtype = int64\n",
      "b.itemsize"
     ],
     "language": "python",
     "prompt_number": 167
    },
    {
     "cell_type": "code",
     "execution_count": null,
     "metadata": {},
     "outputs": [
      {
       "metadata": {},
       "output_type": "pyout",
       "text": [
        "96"
       ]
      }
     ],
     "input": [
      "b.nbytes  == (b.size*b.itemsize)\n",
      "# is total number of bytes the array has \n",
      "# = number of elements * bytes per element \n",
      "# = size * itemsize"
     ],
     "language": "python",
     "prompt_number": 168
    },
    {
     "cell_type": "code",
     "execution_count": null,
     "metadata": {},
     "outputs": [
      {
       "metadata": {},
       "output_type": "pyout",
       "text": [
        "array([[ 0,  1,  2,  3],\n       [ 4,  5,  6,  7],\n       [ 8,  9, 10, 11],\n       [12, 13, 14, 15],\n       [16, 17, 18, 19],\n       [20, 21, 22, 23]])"
       ]
      }
     ],
     "input": [
      "b.resize(6, 4)\n",
      "b"
     ],
     "language": "python",
     "prompt_number": 177
    },
    {
     "cell_type": "code",
     "execution_count": null,
     "metadata": {},
     "outputs": [
      {
       "metadata": {},
       "output_type": "pyout",
       "text": [
        "array([[ 0,  4,  8, 12, 16, 20],\n       [ 1,  5,  9, 13, 17, 21],\n       [ 2,  6, 10, 14, 18, 22],\n       [ 3,  7, 11, 15, 19, 23]])"
       ]
      }
     ],
     "input": [
      "b.T"
     ],
     "language": "python",
     "prompt_number": 178
    },
    {
     "cell_type": "code",
     "execution_count": null,
     "metadata": {},
     "outputs": [
      {
       "metadata": {},
       "output_type": "pyout",
       "text": [
        "array([[ 1.+1.j,  3.+2.j]])"
       ]
      }
     ],
     "input": [
      "from numpy import *\n",
      "b = array([[1+1j, 3+2j]])\n",
      "b"
     ],
     "language": "python",
     "prompt_number": 182
    },
    {
     "cell_type": "code",
     "execution_count": null,
     "metadata": {},
     "outputs": [
      {
       "metadata": {},
       "output_type": "pyout",
       "text": [
        "(array([[ 1.,  3.]]), array([[ 1.,  2.]]))"
       ]
      }
     ],
     "input": [
      "b.real, b.imag"
     ],
     "language": "python",
     "prompt_number": 184
    },
    {
     "cell_type": "code",
     "execution_count": null,
     "metadata": {},
     "outputs": [
      {
       "metadata": {},
       "output_type": "pyout",
       "text": [
        "(dtype('complex128'), '<c16')"
       ]
      }
     ],
     "input": [
      "b.dtype, b.dtype.str"
     ],
     "language": "python",
     "prompt_number": 186
    },
    {
     "cell_type": "code",
     "execution_count": null,
     "metadata": {},
     "outputs": [
      {
       "metadata": {},
       "output_type": "pyout",
       "text": [
        "array([[0, 1],\n       [2, 3]])"
       ]
      }
     ],
     "input": [
      "b = arange(4).reshape(2, 2)\n",
      "b"
     ],
     "language": "python",
     "prompt_number": 188
    },
    {
     "cell_type": "code",
     "execution_count": null,
     "metadata": {},
     "outputs": [
      {
       "metadata": {},
       "output_type": "pyout",
       "text": [
        "(0, 1, 2, 2, 3)"
       ]
      }
     ],
     "input": [
      "f = b.flat\n",
      "f[0], f[1], f[2], b.flat[2], f[3]"
     ],
     "language": "python",
     "prompt_number": 195
    },
    {
     "cell_type": "code",
     "execution_count": null,
     "metadata": {},
     "outputs": [
      {
       "metadata": {},
       "output_type": "pyout",
       "text": [
        "array([1, 3])"
       ]
      }
     ],
     "input": [
      "b.flat[[1, 3]]"
     ],
     "language": "python",
     "prompt_number": 196
    },
    {
     "cell_type": "code",
     "execution_count": null,
     "metadata": {},
     "outputs": [
      {
       "stream": "0\n1\n2\n3\n",
       "output_type": "stream",
       "text": [
        "0\n1\n2\n3\n"
       ]
      }
     ],
     "input": [
      "for item in flattened:\n",
      "    print(item)"
     ],
     "language": "python",
     "prompt_number": 191
    },
    {
     "cell_type": "code",
     "execution_count": null,
     "metadata": {},
     "outputs": [
      {
       "metadata": {},
       "output_type": "pyout",
       "text": [
        "array([[7, 7],\n       [7, 7]])"
       ]
      }
     ],
     "input": [
      "b.flat = 7\n",
      "b"
     ],
     "language": "python",
     "prompt_number": 208
    },
    {
     "cell_type": "code",
     "execution_count": null,
     "metadata": {},
     "outputs": [
      {
       "metadata": {},
       "output_type": "pyout",
       "text": [
        "array([[1, 7],\n       [7, 1]])"
       ]
      }
     ],
     "input": [
      "b.flat[[0, 3]] = 1\n",
      "b"
     ],
     "language": "python",
     "prompt_number": 209
    },
    {
     "cell_type": "code",
     "execution_count": null,
     "metadata": {},
     "outputs": [],
     "input": [
      "# Array attributes:\n",
      "# itemsize = individual number of bytes\n",
      "# size = number of elements in array\n",
      "# nbytes = total bytes\n",
      "# ndim = dimension (1 or 2 or 3... dimensional array)\n",
      "# T = transpose\n",
      "# flat\n",
      "# imag, real components"
     ],
     "language": "python"
    },
    {
     "cell_type": "code",
     "execution_count": null,
     "metadata": {},
     "outputs": [
      {
       "metadata": {},
       "output_type": "pyout",
       "text": [
        "[(1+1j), (3+2j)]"
       ]
      }
     ],
     "input": [
      "# CONVERTING ARRAYS\n",
      "b = array([1+1j, 3+2j])\n",
      "b.tolist(), #use astype()"
     ],
     "language": "python",
     "prompt_number": 212
    },
    {
     "cell_type": "code",
     "execution_count": null,
     "metadata": {},
     "outputs": [],
     "input": [
      ""
     ],
     "language": "python"
    },
    {
     "cell_type": "code",
     "execution_count": null,
     "metadata": {},
     "outputs": [],
     "input": [
      ""
     ],
     "language": "python"
    },
    {
     "cell_type": "code",
     "execution_count": null,
     "metadata": {},
     "outputs": [],
     "input": [
      ""
     ],
     "language": "python"
    },
    {
     "cell_type": "code",
     "execution_count": null,
     "metadata": {},
     "outputs": [],
     "input": [
      ""
     ],
     "language": "python"
    },
    {
     "cell_type": "code",
     "execution_count": null,
     "metadata": {},
     "outputs": [],
     "input": [
      ""
     ],
     "language": "python"
    },
    {
     "cell_type": "code",
     "execution_count": null,
     "metadata": {},
     "outputs": [],
     "input": [
      ""
     ],
     "language": "python"
    },
    {
     "cell_type": "code",
     "execution_count": null,
     "metadata": {},
     "outputs": [],
     "input": [
      ""
     ],
     "language": "python"
    },
    {
     "cell_type": "code",
     "execution_count": null,
     "metadata": {},
     "outputs": [],
     "input": [
      ""
     ],
     "language": "python"
    }
   ]
  }
 ],
 "cells": [],
 "metadata": {},
 "nbformat": 4,
 "nbformat_minor": 0
}