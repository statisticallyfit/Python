{
 "worksheets": [
  {
   "cells": [
    {
     "cell_type": "code",
     "execution_count": null,
     "metadata": {},
     "outputs": [],
     "input": [
      "from scipy import *\n",
      "from scipy.stats import *\n",
      "from sympy import *\n",
      "init_printing()\n",
      "x, y, z = symbols('x y z')"
     ],
     "language": "python"
    },
    {
     "cell_type": "code",
     "execution_count": null,
     "metadata": {},
     "outputs": [],
     "input": [
      "#mu, sigma, n\n",
      "samples = norm.rvs(loc=50, scale=100, size=150).astype(int) \n",
      "param = norm.fit(samples) #distribution fitting"
     ],
     "language": "python",
     "prompt_number": 4
    },
    {
     "cell_type": "code",
     "execution_count": null,
     "metadata": {},
     "outputs": [],
     "input": [
      "def P(n, r):\n",
      "    return factorial(n)/(factorial(n-r))\n",
      "\n",
      "def C(n, r):\n",
      "    return P(n, r)/(factorial(r))"
     ],
     "language": "python",
     "prompt_number": 3
    },
    {
     "cell_type": "code",
     "execution_count": null,
     "metadata": {},
     "outputs": [
      {
       "latex": [
        "$$\\frac{3}{7}$$"
       ],
       "metadata": {},
       "text": [
        "3/7"
       ]
      }
     ],
     "input": [
      "3 * P(6, 3)/P(7, 4)"
     ],
     "language": "python",
     "prompt_number": 6
    },
    {
     "cell_type": "code",
     "execution_count": null,
     "metadata": {},
     "outputs": [
      {
       "latex": [
        "$$\\frac{5}{7}$$"
       ],
       "metadata": {},
       "text": [
        "5/7"
       ]
      }
     ],
     "input": [
      "5*P(6, 3)/P(7, 4)"
     ],
     "language": "python",
     "prompt_number": 8
    },
    {
     "cell_type": "code",
     "execution_count": null,
     "metadata": {},
     "outputs": [
      {
       "latex": [
        "$$\\frac{13}{42}$$"
       ],
       "metadata": {},
       "text": [
        "13\n??\n42"
       ]
      }
     ],
     "input": [
      "13*P(5, 2)/P(7, 4)"
     ],
     "language": "python",
     "prompt_number": 11
    },
    {
     "cell_type": "code",
     "execution_count": null,
     "metadata": {},
     "outputs": [
      {
       "latex": [
        "$$56$$"
       ],
       "metadata": {},
       "text": [
        "56"
       ]
      }
     ],
     "input": [
      "factorial(8)/(factorial(5)*factorial(3))"
     ],
     "language": "python",
     "prompt_number": 12
    },
    {
     "cell_type": "code",
     "execution_count": null,
     "metadata": {},
     "outputs": [
      {
       "latex": [
        "$$20$$"
       ],
       "metadata": {},
       "text": [
        "20"
       ]
      }
     ],
     "input": [
      "factorial(6)/(factorial(3)*factorial(3))"
     ],
     "language": "python",
     "prompt_number": 13
    },
    {
     "cell_type": "code",
     "execution_count": null,
     "metadata": {},
     "outputs": [
      {
       "latex": [
        "$$\\frac{1}{30240}$$"
       ],
       "metadata": {},
       "text": [
        "1/30240"
       ]
      }
     ],
     "input": [
      "factorial(3)*2/factorial(9)"
     ],
     "language": "python",
     "prompt_number": 14
    },
    {
     "cell_type": "code",
     "execution_count": null,
     "metadata": {},
     "outputs": [],
     "input": [
      "# binom.cdf(x, n, p)"
     ],
     "language": "python",
     "prompt_number": 36
    },
    {
     "cell_type": "code",
     "execution_count": null,
     "metadata": {},
     "outputs": [
      {
       "latex": [
        "$$0.24571447707$$"
       ],
       "metadata": {},
       "text": [
        "0.24571447707"
       ]
      }
     ],
     "input": [
      "1 - binom.cdf(2, 8, 7/32)"
     ],
     "language": "python",
     "prompt_number": 35
    },
    {
     "cell_type": "code",
     "execution_count": null,
     "metadata": {},
     "outputs": [],
     "input": [
      ""
     ],
     "language": "python",
     "prompt_number": 33
    },
    {
     "cell_type": "code",
     "execution_count": null,
     "metadata": {},
     "outputs": [],
     "input": [
      ""
     ],
     "language": "python",
     "prompt_number": 33
    },
    {
     "cell_type": "code",
     "execution_count": null,
     "metadata": {},
     "outputs": [],
     "input": [
      ""
     ],
     "language": "python"
    },
    {
     "cell_type": "code",
     "execution_count": null,
     "metadata": {},
     "outputs": [],
     "input": [
      ""
     ],
     "language": "python"
    },
    {
     "cell_type": "code",
     "execution_count": null,
     "metadata": {},
     "outputs": [],
     "input": [
      ""
     ],
     "language": "python"
    },
    {
     "cell_type": "code",
     "execution_count": null,
     "metadata": {},
     "outputs": [],
     "input": [
      ""
     ],
     "language": "python"
    },
    {
     "cell_type": "code",
     "execution_count": null,
     "metadata": {},
     "outputs": [],
     "input": [
      ""
     ],
     "language": "python"
    },
    {
     "cell_type": "code",
     "execution_count": null,
     "metadata": {},
     "outputs": [],
     "input": [
      ""
     ],
     "language": "python"
    },
    {
     "cell_type": "code",
     "execution_count": null,
     "metadata": {},
     "outputs": [],
     "input": [
      ""
     ],
     "language": "python"
    }
   ]
  }
 ],
 "cells": [],
 "metadata": {},
 "nbformat": 4,
 "nbformat_minor": 0
}